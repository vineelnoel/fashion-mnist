{
  "nbformat": 4,
  "nbformat_minor": 0,
  "metadata": {
    "colab": {
      "name": "Fashion MNIST",
      "provenance": [],
      "authorship_tag": "ABX9TyMIpMmHqYysodCIGjioirXR",
      "include_colab_link": true
    },
    "kernelspec": {
      "name": "python3",
      "display_name": "Python 3"
    },
    "accelerator": "GPU"
  },
  "cells": [
    {
      "cell_type": "markdown",
      "metadata": {
        "id": "view-in-github",
        "colab_type": "text"
      },
      "source": [
        "<a href=\"https://colab.research.google.com/github/vineelnoel/fashion-mnist/blob/main/Fashion_MNIST.ipynb\" target=\"_parent\"><img src=\"https://colab.research.google.com/assets/colab-badge.svg\" alt=\"Open In Colab\"/></a>"
      ]
    },
    {
      "cell_type": "code",
      "metadata": {
        "id": "xT4tM_aJz4lC"
      },
      "source": [
        "import tensorflow as tf\n",
        "import numpy as np\n",
        "import matplotlib.pyplot as plt"
      ],
      "execution_count": 1,
      "outputs": []
    },
    {
      "cell_type": "code",
      "metadata": {
        "id": "_xng4iyj0Hti"
      },
      "source": [
        "from tensorflow.keras.layers import Dense, MaxPooling2D, Dropout, Flatten, Conv2D, GlobalMaxPooling2D, Input, BatchNormalization\n",
        "from tensorflow.keras.models import Model"
      ],
      "execution_count": 2,
      "outputs": []
    },
    {
      "cell_type": "code",
      "metadata": {
        "id": "23xv3EYv2fkl"
      },
      "source": [
        "from tensorflow.keras.datasets import fashion_mnist"
      ],
      "execution_count": 3,
      "outputs": []
    },
    {
      "cell_type": "code",
      "metadata": {
        "id": "SwuYf3j-2wMM"
      },
      "source": [
        "(X_train, y_train), (X_test, y_test) = fashion_mnist.load_data()"
      ],
      "execution_count": 4,
      "outputs": []
    },
    {
      "cell_type": "code",
      "metadata": {
        "colab": {
          "base_uri": "https://localhost:8080/"
        },
        "id": "kPD08s7D26Ax",
        "outputId": "76c6adf9-e26e-4b0e-9000-6822e09573db"
      },
      "source": [
        "X_train.shape"
      ],
      "execution_count": 5,
      "outputs": [
        {
          "output_type": "execute_result",
          "data": {
            "text/plain": [
              "(60000, 28, 28)"
            ]
          },
          "metadata": {
            "tags": []
          },
          "execution_count": 5
        }
      ]
    },
    {
      "cell_type": "code",
      "metadata": {
        "colab": {
          "base_uri": "https://localhost:8080/"
        },
        "id": "wR-YfclJ3MMC",
        "outputId": "2ca0a01c-23a5-42fd-a2d6-72d023dcaaf6"
      },
      "source": [
        "y_train.shape"
      ],
      "execution_count": 6,
      "outputs": [
        {
          "output_type": "execute_result",
          "data": {
            "text/plain": [
              "(60000,)"
            ]
          },
          "metadata": {
            "tags": []
          },
          "execution_count": 6
        }
      ]
    },
    {
      "cell_type": "code",
      "metadata": {
        "id": "Yw_EPjQHm3AB"
      },
      "source": [
        "X_train, X_test = X_train / 255.0, X_test / 255.0"
      ],
      "execution_count": 7,
      "outputs": []
    },
    {
      "cell_type": "code",
      "metadata": {
        "id": "bHJ7-SS53ShI"
      },
      "source": [
        "X_train = np.expand_dims(X_train, -1)\n",
        "X_test = np.expand_dims(X_test, -1)"
      ],
      "execution_count": 8,
      "outputs": []
    },
    {
      "cell_type": "code",
      "metadata": {
        "colab": {
          "base_uri": "https://localhost:8080/"
        },
        "id": "7m3Opb6b3tnp",
        "outputId": "8da59f3b-8d25-41c8-a1c5-53c102bf1f98"
      },
      "source": [
        "print(X_train.shape)\n",
        "print(X_test.shape)"
      ],
      "execution_count": 9,
      "outputs": [
        {
          "output_type": "stream",
          "text": [
            "(60000, 28, 28, 1)\n",
            "(10000, 28, 28, 1)\n"
          ],
          "name": "stdout"
        }
      ]
    },
    {
      "cell_type": "code",
      "metadata": {
        "colab": {
          "base_uri": "https://localhost:8080/"
        },
        "id": "AkWRWhfUnSS8",
        "outputId": "c75cf9df-4728-4ef7-9866-f7e098f0e4d7"
      },
      "source": [
        "print(len(set(y_train)))\r\n",
        "print(len(set(y_test)))"
      ],
      "execution_count": 10,
      "outputs": [
        {
          "output_type": "stream",
          "text": [
            "10\n",
            "10\n"
          ],
          "name": "stdout"
        }
      ]
    },
    {
      "cell_type": "code",
      "metadata": {
        "id": "rMVwgysr6JVs"
      },
      "source": [
        "K = len(set(y_train))"
      ],
      "execution_count": 11,
      "outputs": []
    },
    {
      "cell_type": "code",
      "metadata": {
        "colab": {
          "base_uri": "https://localhost:8080/"
        },
        "id": "Muylln9mnhfO",
        "outputId": "39c7c382-b759-4b1d-dee8-e0631d3a43c0"
      },
      "source": [
        "print(X_train[0].shape)"
      ],
      "execution_count": 12,
      "outputs": [
        {
          "output_type": "stream",
          "text": [
            "(28, 28, 1)\n"
          ],
          "name": "stdout"
        }
      ]
    },
    {
      "cell_type": "code",
      "metadata": {
        "id": "IgllMqFGn3EC"
      },
      "source": [
        "i = Input(shape=X_train[0].shape)"
      ],
      "execution_count": 13,
      "outputs": []
    },
    {
      "cell_type": "code",
      "metadata": {
        "id": "xyXJhxL3o6tE"
      },
      "source": [
        "x = Conv2D(32, (3, 3), strides=2,activation='relu', padding='same')(i)\r\n",
        "x = Conv2D(64, (3, 3), strides=2,activation='relu', padding='same')(x)\r\n",
        "x = Conv2D(128, (3, 3), strides=2,activation='relu', padding='same')(x)\r\n",
        "\r\n",
        "x = Flatten()(x)\r\n",
        "x = Dropout(0.5)(x)\r\n",
        "x = Dense(512, activation='relu')(x)\r\n",
        "x = Dropout(0.2)(x)\r\n",
        "x = Dense(K, activation='softmax')(x)\r\n",
        "\r\n",
        "model = Model(i, x)"
      ],
      "execution_count": 14,
      "outputs": []
    },
    {
      "cell_type": "code",
      "metadata": {
        "colab": {
          "base_uri": "https://localhost:8080/"
        },
        "id": "G_2d6HBErkOh",
        "outputId": "afbf9a26-1b0b-49ec-dad3-9213a6feaca6"
      },
      "source": [
        "model.compile(optimizer='adam', loss='sparse_categorical_crossentropy', metrics=['accuracy'])\r\n",
        "r = model.fit(X_train, y_train, validation_data=(X_test, y_test), epochs=15)"
      ],
      "execution_count": 15,
      "outputs": [
        {
          "output_type": "stream",
          "text": [
            "Epoch 1/15\n",
            "1875/1875 [==============================] - 6s 3ms/step - loss: 0.4728 - accuracy: 0.8276 - val_loss: 0.3439 - val_accuracy: 0.8705\n",
            "Epoch 2/15\n",
            "1875/1875 [==============================] - 6s 3ms/step - loss: 0.3218 - accuracy: 0.8813 - val_loss: 0.2920 - val_accuracy: 0.8899\n",
            "Epoch 3/15\n",
            "1875/1875 [==============================] - 6s 3ms/step - loss: 0.2814 - accuracy: 0.8950 - val_loss: 0.2815 - val_accuracy: 0.8940\n",
            "Epoch 4/15\n",
            "1875/1875 [==============================] - 6s 3ms/step - loss: 0.2524 - accuracy: 0.9051 - val_loss: 0.2514 - val_accuracy: 0.9088\n",
            "Epoch 5/15\n",
            "1875/1875 [==============================] - 6s 3ms/step - loss: 0.2320 - accuracy: 0.9132 - val_loss: 0.2512 - val_accuracy: 0.9077\n",
            "Epoch 6/15\n",
            "1875/1875 [==============================] - 6s 3ms/step - loss: 0.2144 - accuracy: 0.9194 - val_loss: 0.2457 - val_accuracy: 0.9090\n",
            "Epoch 7/15\n",
            "1875/1875 [==============================] - 6s 3ms/step - loss: 0.2008 - accuracy: 0.9230 - val_loss: 0.2514 - val_accuracy: 0.9117\n",
            "Epoch 8/15\n",
            "1875/1875 [==============================] - 6s 3ms/step - loss: 0.1888 - accuracy: 0.9296 - val_loss: 0.2425 - val_accuracy: 0.9136\n",
            "Epoch 9/15\n",
            "1875/1875 [==============================] - 6s 3ms/step - loss: 0.1766 - accuracy: 0.9329 - val_loss: 0.2357 - val_accuracy: 0.9151\n",
            "Epoch 10/15\n",
            "1875/1875 [==============================] - 6s 3ms/step - loss: 0.1682 - accuracy: 0.9369 - val_loss: 0.2409 - val_accuracy: 0.9164\n",
            "Epoch 11/15\n",
            "1875/1875 [==============================] - 6s 3ms/step - loss: 0.1596 - accuracy: 0.9395 - val_loss: 0.2554 - val_accuracy: 0.9128\n",
            "Epoch 12/15\n",
            "1875/1875 [==============================] - 6s 3ms/step - loss: 0.1510 - accuracy: 0.9420 - val_loss: 0.2359 - val_accuracy: 0.9201\n",
            "Epoch 13/15\n",
            "1875/1875 [==============================] - 6s 3ms/step - loss: 0.1466 - accuracy: 0.9451 - val_loss: 0.2472 - val_accuracy: 0.9145\n",
            "Epoch 14/15\n",
            "1875/1875 [==============================] - 6s 3ms/step - loss: 0.1392 - accuracy: 0.9472 - val_loss: 0.2438 - val_accuracy: 0.9208\n",
            "Epoch 15/15\n",
            "1875/1875 [==============================] - 6s 3ms/step - loss: 0.1340 - accuracy: 0.9494 - val_loss: 0.2515 - val_accuracy: 0.9217\n"
          ],
          "name": "stdout"
        }
      ]
    },
    {
      "cell_type": "code",
      "metadata": {
        "colab": {
          "base_uri": "https://localhost:8080/",
          "height": 282
        },
        "id": "1ejxB_51sY0Z",
        "outputId": "f3107ed1-b69d-4d37-ef03-71a87a63a86c"
      },
      "source": [
        "plt.plot(r.history['loss'], label='loss')\r\n",
        "plt.plot(r.history['val_loss'], label='val_loss')\r\n",
        "plt.legend()"
      ],
      "execution_count": 16,
      "outputs": [
        {
          "output_type": "execute_result",
          "data": {
            "text/plain": [
              "<matplotlib.legend.Legend at 0x7fe146e57438>"
            ]
          },
          "metadata": {
            "tags": []
          },
          "execution_count": 16
        },
        {
          "output_type": "display_data",
          "data": {
            "image/png": "[encoded data removed]",
            "text/plain": [
              "<Figure size 432x288 with 1 Axes>"
            ]
          },
          "metadata": {
            "tags": [],
            "needs_background": "light"
          }
        }
      ]
    },
    {
      "cell_type": "code",
      "metadata": {
        "colab": {
          "base_uri": "https://localhost:8080/",
          "height": 282
        },
        "id": "X2llCpRetx8n",
        "outputId": "80f4fc7e-e30a-4def-daf6-5d74003d4670"
      },
      "source": [
        "plt.plot(r.history['accuracy'], label='accuracy')\r\n",
        "plt.plot(r.history['val_accuracy'], label='val_accuracy')\r\n",
        "plt.legend()"
      ],
      "execution_count": 17,
      "outputs": [
        {
          "output_type": "execute_result",
          "data": {
            "text/plain": [
              "<matplotlib.legend.Legend at 0x7fe146936470>"
            ]
          },
          "metadata": {
            "tags": []
          },
          "execution_count": 17
        },
        {
          "output_type": "display_data",
          "data": {
            "image/png": "[encoded data removed]",
            "text/plain": [
              "<Figure size 432x288 with 1 Axes>"
            ]
          },
          "metadata": {
            "tags": [],
            "needs_background": "light"
          }
        }
      ]
    },
    {
      "cell_type": "code",
      "metadata": {
        "colab": {
          "base_uri": "https://localhost:8080/",
          "height": 505
        },
        "id": "0pG58OcNxYr2",
        "outputId": "f4669bde-b524-4b0c-b0cd-cfa020a2daec"
      },
      "source": [
        "from sklearn.metrics import confusion_matrix\r\n",
        "import itertools\r\n",
        "\r\n",
        "def plot_confusion_matrix(cm, classes, normalize=False, title='Confusion Matrix', cmap=plt.cm.Blues):\r\n",
        "\r\n",
        "  if normalize:\r\n",
        "    cm = cm.astype('float') / cm.sum(axis=1)[:, np.newaxis]\r\n",
        "    print('Normalized Confusion Matrix')\r\n",
        "  else:\r\n",
        "    print('Confusion Matrix without normalization')\r\n",
        "\r\n",
        "  print(cm)\r\n",
        "  plt.imshow(cm, interpolation = 'nearest', cmap = cmap)\r\n",
        "  plt.title(title)\r\n",
        "  plt.colorbar()\r\n",
        "  tick_marks = np.arange(len(classes))\r\n",
        "  plt.xticks(tick_marks, classes, rotation = 45)\r\n",
        "  plt.yticks(tick_marks, classes)\r\n",
        "\r\n",
        "  fmt = '.2f' if normalize else 'd'\r\n",
        "  thresh = cm.max()/2\r\n",
        "  for i, j in itertools.product(range(cm.shape[0]), range(cm.shape[1])):\r\n",
        "    plt.text(j, i, format(cm[i, j], fmt), horizontalalignment='center', color='white' if cm[i, j] > thresh else 'black')\r\n",
        "  \r\n",
        "  plt.tight_layout()\r\n",
        "  plt.ylabel('True label')\r\n",
        "  plt.xlabel('Predicted Label')\r\n",
        "  plt.show()\r\n",
        "\r\n",
        "p_test = model.predict(X_test).argmax(axis=1)\r\n",
        "cm = confusion_matrix(y_test, p_test)\r\n",
        "plot_confusion_matrix(cm, list(range(10)))"
      ],
      "execution_count": 18,
      "outputs": [
        {
          "output_type": "stream",
          "text": [
            "Confusion Matrix without normalization\n",
            "[[912   0  18  10   2   1  49   0   8   0]\n",
            " [  1 988   1   6   2   0   0   0   2   0]\n",
            " [ 15   1 880   7  57   0  39   0   1   0]\n",
            " [ 19   5   8 915  36   0  16   0   1   0]\n",
            " [  2   0  39  15 906   0  38   0   0   0]\n",
            " [  0   0   0   0   0 981   0  15   0   4]\n",
            " [134   2  56  21  74   0 703   0  10   0]\n",
            " [  0   0   0   0   0   4   0 985   0  11]\n",
            " [  2   1   3   0   3   2   2   1 986   0]\n",
            " [  0   0   0   0   0   3   1  35   0 961]]\n"
          ],
          "name": "stdout"
        },
        {
          "output_type": "display_data",
          "data": {
            "image/png": "[encoded data removed]",
            "text/plain": [
              "<Figure size 432x288 with 2 Axes>"
            ]
          },
          "metadata": {
            "tags": [],
            "needs_background": "light"
          }
        }
      ]
    },
    {
      "cell_type": "code",
      "metadata": {
        "id": "nz0gKxJwxlnk"
      },
      "source": [
        "labels = '''T-shirt/top\r\n",
        "Trouser\r\n",
        "Pullover\r\n",
        "Dress\r\n",
        "Coat\r\n",
        "Sandal\r\n",
        "Shirt\r\n",
        "Sneaker\r\n",
        "Bag\r\n",
        "Ankle boot'''.split()"
      ],
      "execution_count": 19,
      "outputs": []
    },
    {
      "cell_type": "code",
      "metadata": {
        "colab": {
          "base_uri": "https://localhost:8080/",
          "height": 281
        },
        "id": "GyXOVsa_yA_T",
        "outputId": "eb5a34ab-c1f0-4aef-9980-27968890b83d"
      },
      "source": [
        "misclassified_idx = np.where(p_test != y_test)[0]\r\n",
        "i = np.random.choice(misclassified_idx)\r\n",
        "plt.imshow(X_test[i].reshape(28, 28), cmap='gray')\r\n",
        "plt.title('True label: %s Predicted: %s' % (labels[y_test[i]], labels[p_test[i]]));"
      ],
      "execution_count": 24,
      "outputs": [
        {
          "output_type": "display_data",
          "data": {
            "image/png": "[encoded data removed]",
            "text/plain": [
              "<Figure size 432x288 with 1 Axes>"
            ]
          },
          "metadata": {
            "tags": [],
            "needs_background": "light"
          }
        }
      ]
    }
  ]
}